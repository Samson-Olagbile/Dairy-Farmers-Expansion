{
 "cells": [
  {
   "cell_type": "code",
   "execution_count": 44,
   "id": "complete-sunrise",
   "metadata": {},
   "outputs": [],
   "source": [
    "import pandas as pd\n",
    "import uuid\n",
    "df = pd.read_csv('groceries_raw.csv')"
   ]
  },
  {
   "cell_type": "code",
   "execution_count": 45,
   "id": "accepting-cassette",
   "metadata": {},
   "outputs": [],
   "source": [
    "ids = [uuid.uuid4() for x in range(0, len(df))]"
   ]
  },
  {
   "cell_type": "code",
   "execution_count": 46,
   "id": "sixth-entry",
   "metadata": {},
   "outputs": [],
   "source": [
    "df['item_id'] = ids"
   ]
  },
  {
   "cell_type": "code",
   "execution_count": 47,
   "id": "designed-operation",
   "metadata": {},
   "outputs": [],
   "source": [
    "df.columns = ['member_id', 'full_date', 'category', 'year', 'month', 'day', 'day_of_week', 'purchase_id']"
   ]
  },
  {
   "cell_type": "code",
   "execution_count": 48,
   "id": "dimensional-uruguay",
   "metadata": {},
   "outputs": [],
   "source": [
    "df1 = df[['member_id', 'full_date', 'year', 'month', 'day', 'day_of_week', 'purchase_id']]\n",
    "categories = df[['purchase_id', 'category']]"
   ]
  },
  {
   "cell_type": "code",
   "execution_count": 49,
   "id": "statistical-fairy",
   "metadata": {},
   "outputs": [],
   "source": [
    "df_2014 = df1[df1.year == 2014]\n",
    "df_2015 = df1[df1.year == 2015]"
   ]
  },
  {
   "cell_type": "code",
   "execution_count": 50,
   "id": "tropical-traveler",
   "metadata": {},
   "outputs": [
    {
     "data": {
      "text/html": [
       "<div>\n",
       "<style scoped>\n",
       "    .dataframe tbody tr th:only-of-type {\n",
       "        vertical-align: middle;\n",
       "    }\n",
       "\n",
       "    .dataframe tbody tr th {\n",
       "        vertical-align: top;\n",
       "    }\n",
       "\n",
       "    .dataframe thead th {\n",
       "        text-align: right;\n",
       "    }\n",
       "</style>\n",
       "<table border=\"1\" class=\"dataframe\">\n",
       "  <thead>\n",
       "    <tr style=\"text-align: right;\">\n",
       "      <th></th>\n",
       "      <th>member_id</th>\n",
       "      <th>full_date</th>\n",
       "      <th>year</th>\n",
       "      <th>month</th>\n",
       "      <th>day</th>\n",
       "      <th>day_of_week</th>\n",
       "      <th>purchase_id</th>\n",
       "    </tr>\n",
       "  </thead>\n",
       "  <tbody>\n",
       "    <tr>\n",
       "      <th>8696</th>\n",
       "      <td>1664</td>\n",
       "      <td>2014-01-10</td>\n",
       "      <td>2014</td>\n",
       "      <td>1</td>\n",
       "      <td>10</td>\n",
       "      <td>4</td>\n",
       "      <td>8a0ebee9-5fca-4c67-af3a-b6b18700b517</td>\n",
       "    </tr>\n",
       "    <tr>\n",
       "      <th>8697</th>\n",
       "      <td>3942</td>\n",
       "      <td>2014-12-16</td>\n",
       "      <td>2014</td>\n",
       "      <td>12</td>\n",
       "      <td>16</td>\n",
       "      <td>1</td>\n",
       "      <td>b8b399c0-0717-4bb9-9ada-55247b5ffd88</td>\n",
       "    </tr>\n",
       "  </tbody>\n",
       "</table>\n",
       "</div>"
      ],
      "text/plain": [
       "      member_id   full_date  year  month  day  day_of_week  \\\n",
       "8696       1664  2014-01-10  2014      1   10            4   \n",
       "8697       3942  2014-12-16  2014     12   16            1   \n",
       "\n",
       "                               purchase_id  \n",
       "8696  8a0ebee9-5fca-4c67-af3a-b6b18700b517  \n",
       "8697  b8b399c0-0717-4bb9-9ada-55247b5ffd88  "
      ]
     },
     "execution_count": 50,
     "metadata": {},
     "output_type": "execute_result"
    }
   ],
   "source": [
    "df_2014.head(2)"
   ]
  },
  {
   "cell_type": "code",
   "execution_count": 51,
   "id": "velvet-pattern",
   "metadata": {},
   "outputs": [],
   "source": [
    "df_2015.columns = ['MemberID', 'FullDate', 'Year', 'Month', 'Day', 'DayofWeek',\n",
    "       'PurchaseID']"
   ]
  },
  {
   "cell_type": "code",
   "execution_count": 52,
   "id": "spanish-boulder",
   "metadata": {},
   "outputs": [],
   "source": [
    "df_2015 = df_2015.drop(columns=['Year', 'Month', 'Day'])"
   ]
  },
  {
   "cell_type": "code",
   "execution_count": 53,
   "id": "balanced-makeup",
   "metadata": {},
   "outputs": [],
   "source": [
    "df_2014.to_csv('2014_purchases.csv', index=False)\n",
    "df_2015.to_csv('2015_purchases.csv', index=False)\n",
    "categories.to_csv('categories.csv', index=False)"
   ]
  },
  {
   "cell_type": "code",
   "execution_count": 55,
   "id": "abstract-lancaster",
   "metadata": {},
   "outputs": [
    {
     "name": "stdout",
     "output_type": "stream",
     "text": [
      "<class 'pandas.core.frame.DataFrame'>\n",
      "Int64Index: 18277 entries, 8696 to 38764\n",
      "Data columns (total 7 columns):\n",
      " #   Column       Non-Null Count  Dtype \n",
      "---  ------       --------------  ----- \n",
      " 0   member_id    18277 non-null  int64 \n",
      " 1   full_date    18277 non-null  object\n",
      " 2   year         18277 non-null  int64 \n",
      " 3   month        18277 non-null  int64 \n",
      " 4   day          18277 non-null  int64 \n",
      " 5   day_of_week  18277 non-null  int64 \n",
      " 6   purchase_id  18277 non-null  object\n",
      "dtypes: int64(5), object(2)\n",
      "memory usage: 1.1+ MB\n",
      "None\n",
      "<class 'pandas.core.frame.DataFrame'>\n",
      "Int64Index: 20488 entries, 0 to 37118\n",
      "Data columns (total 4 columns):\n",
      " #   Column      Non-Null Count  Dtype \n",
      "---  ------      --------------  ----- \n",
      " 0   MemberID    20488 non-null  int64 \n",
      " 1   FullDate    20488 non-null  object\n",
      " 2   DayofWeek   20488 non-null  int64 \n",
      " 3   PurchaseID  20488 non-null  object\n",
      "dtypes: int64(2), object(2)\n",
      "memory usage: 800.3+ KB\n",
      "None\n",
      "<class 'pandas.core.frame.DataFrame'>\n",
      "RangeIndex: 38765 entries, 0 to 38764\n",
      "Data columns (total 2 columns):\n",
      " #   Column       Non-Null Count  Dtype \n",
      "---  ------       --------------  ----- \n",
      " 0   purchase_id  38765 non-null  object\n",
      " 1   category     38765 non-null  object\n",
      "dtypes: object(2)\n",
      "memory usage: 605.8+ KB\n",
      "None\n"
     ]
    }
   ],
   "source": [
    "for d in [df_2014, df_2015, categories]:\n",
    "    print(d.info())"
   ]
  },
  {
   "cell_type": "code",
   "execution_count": 12,
   "id": "modified-fisher",
   "metadata": {},
   "outputs": [],
   "source": []
  },
  {
   "cell_type": "code",
   "execution_count": 13,
   "id": "302e98b3",
   "metadata": {},
   "outputs": [
    {
     "data": {
      "text/html": [
       "<div>\n",
       "<style scoped>\n",
       "    .dataframe tbody tr th:only-of-type {\n",
       "        vertical-align: middle;\n",
       "    }\n",
       "\n",
       "    .dataframe tbody tr th {\n",
       "        vertical-align: top;\n",
       "    }\n",
       "\n",
       "    .dataframe thead th {\n",
       "        text-align: right;\n",
       "    }\n",
       "</style>\n",
       "<table border=\"1\" class=\"dataframe\">\n",
       "  <thead>\n",
       "    <tr style=\"text-align: right;\">\n",
       "      <th></th>\n",
       "      <th>FullDate</th>\n",
       "    </tr>\n",
       "  </thead>\n",
       "  <tbody>\n",
       "    <tr>\n",
       "      <th>0</th>\n",
       "      <td>2020-07-21</td>\n",
       "    </tr>\n",
       "    <tr>\n",
       "      <th>1</th>\n",
       "      <td>2020-05-01</td>\n",
       "    </tr>\n",
       "    <tr>\n",
       "      <th>2</th>\n",
       "      <td>2020-09-19</td>\n",
       "    </tr>\n",
       "    <tr>\n",
       "      <th>3</th>\n",
       "      <td>2020-12-12</td>\n",
       "    </tr>\n",
       "    <tr>\n",
       "      <th>4</th>\n",
       "      <td>2020-01-02</td>\n",
       "    </tr>\n",
       "  </tbody>\n",
       "</table>\n",
       "</div>"
      ],
      "text/plain": [
       "     FullDate\n",
       "0  2020-07-21\n",
       "1  2020-05-01\n",
       "2  2020-09-19\n",
       "3  2020-12-12\n",
       "4  2020-01-02"
      ]
     },
     "execution_count": 13,
     "metadata": {},
     "output_type": "execute_result"
    }
   ],
   "source": [
    "df2.head()"
   ]
  },
  {
   "cell_type": "code",
   "execution_count": 10,
   "id": "express-candidate",
   "metadata": {},
   "outputs": [],
   "source": [
    "df_2019 = df1.full_date.str.replace('2014', '2019')\n",
    "df_2020 = df2.FullDate.str.replace('2015', '2020')"
   ]
  },
  {
   "cell_type": "code",
   "execution_count": 11,
   "id": "127f2e0f",
   "metadata": {},
   "outputs": [],
   "source": [
    "df_2019.to_csv('2019_purchases.csv', index=False)\n",
    "df_2020.to_csv('2020_purchases.csv', index=False)"
   ]
  },
  {
   "cell_type": "code",
   "execution_count": 14,
   "id": "7f3773d2",
   "metadata": {},
   "outputs": [],
   "source": [
    "import pandas as pd\n",
    "df1 = pd.read_csv('2019_data.csv')\n",
    "df2 = pd.read_csv('2020_data.csv')"
   ]
  },
  {
   "cell_type": "code",
   "execution_count": 16,
   "id": "30e13037",
   "metadata": {},
   "outputs": [],
   "source": [
    "df1['full_date'] = df1.full_date.str.replace('2014', '2019')\n",
    "df2['FullDate'] = df2.FullDate.str.replace('2015', '2020')"
   ]
  },
  {
   "cell_type": "code",
   "execution_count": 19,
   "id": "49fb266a",
   "metadata": {},
   "outputs": [],
   "source": [
    "df1.to_csv('2019_purchases.csv', index=False)\n",
    "df2.to_csv('2020_purchases.csv', index=False)"
   ]
  },
  {
   "cell_type": "code",
   "execution_count": null,
   "id": "4cab0855",
   "metadata": {},
   "outputs": [],
   "source": []
  }
 ],
 "metadata": {
  "kernelspec": {
   "display_name": "Python 3 (ipykernel)",
   "language": "python",
   "name": "python3"
  },
  "language_info": {
   "codemirror_mode": {
    "name": "ipython",
    "version": 3
   },
   "file_extension": ".py",
   "mimetype": "text/x-python",
   "name": "python",
   "nbconvert_exporter": "python",
   "pygments_lexer": "ipython3",
   "version": "3.9.6"
  }
 },
 "nbformat": 4,
 "nbformat_minor": 5
}
